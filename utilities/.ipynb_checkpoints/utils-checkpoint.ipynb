{
 "cells": [
  {
   "cell_type": "code",
   "execution_count": 1,
   "id": "80dacbbf",
   "metadata": {},
   "outputs": [],
   "source": [
    "import yaml"
   ]
  },
  {
   "cell_type": "code",
   "execution_count": 2,
   "id": "2d20e600",
   "metadata": {},
   "outputs": [],
   "source": [
    "def read_yaml(file_path):\n",
    "    \"\"\" read configuration file in yaml\n",
    "    :parameter file_path: read config.yaml file\n",
    "    :return : dictionary of config\n",
    "    \"\"\"\n",
    "    with open(file_path,'r') as f:\n",
    "        return yaml.safe_load(f)\n",
    "    \n",
    "\n",
    "\n",
    "\n",
    "def read_csv_file(spark,file_path):\n",
    "    \"\"\" read input files from /data directory\n",
    "    :parameter spark : spark instance\n",
    "    :parameter file_path : input file path\n",
    "    :return : dataframe \n",
    "    \"\"\"\n",
    "    return spark.read.csv(file_path, header=True, inferSchema=True)\n",
    "\n",
    "\n",
    "\n",
    "\n",
    "def write_output(output_df,file_path,file_format):\n",
    "    \"\"\" save output to file\n",
    "    :parameter output_df : output dataframe\n",
    "    :parameter file_path: output file path\n",
    "    :parameter file_format: output file format\n",
    "    :return : None\n",
    "    \"\"\"\n",
    "    output_df.write.format(file_format).mode('overwrite').option(\"header\",True).save(file_path)\n",
    "    \n",
    "    \n",
    "    "
   ]
  },
  {
   "cell_type": "code",
   "execution_count": null,
   "id": "465bce8e",
   "metadata": {},
   "outputs": [],
   "source": []
  }
 ],
 "metadata": {
  "kernelspec": {
   "display_name": "Python 3 (ipykernel)",
   "language": "python",
   "name": "python3"
  },
  "language_info": {
   "codemirror_mode": {
    "name": "ipython",
    "version": 3
   },
   "file_extension": ".py",
   "mimetype": "text/x-python",
   "name": "python",
   "nbconvert_exporter": "python",
   "pygments_lexer": "ipython3",
   "version": "3.10.9"
  }
 },
 "nbformat": 4,
 "nbformat_minor": 5
}
